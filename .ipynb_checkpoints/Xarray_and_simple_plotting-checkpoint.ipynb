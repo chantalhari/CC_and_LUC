{
 "cells": [
  {
   "cell_type": "markdown",
   "metadata": {},
   "source": [
    "`Aim:` *Notebook for the purpose of Climate Risk Assessment lecture:* `Xarray and Simple Plotting`\n",
    "\n",
    "`Author:` Mubashshir Ali"
   ]
  },
  {
   "cell_type": "markdown",
   "metadata": {},
   "source": [
    "# Imports"
   ]
  },
  {
   "cell_type": "code",
   "execution_count": null,
   "metadata": {
    "ExecuteTime": {
     "end_time": "2020-02-17T14:54:36.300750Z",
     "start_time": "2020-02-17T14:54:35.523804Z"
    }
   },
   "outputs": [],
   "source": [
    "# importing libraries as an alias so that we know which function belongs to which library\n",
    "from IPython.display import Image\n",
    "import matplotlib.pyplot as plt\n",
    "import numpy as np\n",
    "\n"
   ]
  },
  {
   "cell_type": "markdown",
   "metadata": {},
   "source": [
    "# Plotting a simple canvas"
   ]
  },
  {
   "cell_type": "markdown",
   "metadata": {},
   "source": [
    "Let's first plot a simple canvas on which we will draw figures later-on"
   ]
  },
  {
   "cell_type": "code",
   "execution_count": null,
   "metadata": {
    "ExecuteTime": {
     "end_time": "2020-02-17T14:54:47.344926Z",
     "start_time": "2020-02-17T14:54:46.801011Z"
    }
   },
   "outputs": [],
   "source": [
    "fig = plt.figure()\n",
    "ax = plt.axes()"
   ]
  },
  {
   "cell_type": "markdown",
   "metadata": {},
   "source": [
    "You can use `shift` + `tab` key to view the syntax of a function and other options it provides. Test it below."
   ]
  },
  {
   "cell_type": "code",
   "execution_count": null,
   "metadata": {
    "ExecuteTime": {
     "end_time": "2020-02-17T14:54:49.218054Z",
     "start_time": "2020-02-17T14:54:49.204533Z"
    }
   },
   "outputs": [],
   "source": [
    "plt.figure();\n"
   ]
  },
  {
   "cell_type": "markdown",
   "metadata": {},
   "source": [
    "Now, let's plot a simple function, the classical `sine` curve example"
   ]
  },
  {
   "cell_type": "code",
   "execution_count": null,
   "metadata": {
    "ExecuteTime": {
     "end_time": "2020-02-17T14:54:50.952724Z",
     "start_time": "2020-02-17T14:54:50.679513Z"
    }
   },
   "outputs": [],
   "source": [
    "# create an array of points\n",
    "x = np.linspace(0, 10, 1000) # use shift + tab to see the syntax\n",
    "y = np.sin(x) # our function\n",
    "\n",
    "# lets create our canvas as we did above\n",
    "fig = plt.figure()\n",
    "ax = plt.axes()\n",
    "ax.plot(x, y)"
   ]
  },
  {
   "cell_type": "markdown",
   "metadata": {},
   "source": [
    "This could also be plotted lazily in just one line..."
   ]
  },
  {
   "cell_type": "code",
   "execution_count": null,
   "metadata": {
    "ExecuteTime": {
     "end_time": "2020-02-17T14:54:57.532616Z",
     "start_time": "2020-02-17T14:54:57.313124Z"
    }
   },
   "outputs": [],
   "source": [
    "plt.plot(x, np.sin(x))"
   ]
  },
  {
   "cell_type": "markdown",
   "metadata": {},
   "source": [
    "## Making nicer plots with seaborn"
   ]
  },
  {
   "cell_type": "code",
   "execution_count": null,
   "metadata": {
    "ExecuteTime": {
     "end_time": "2020-02-17T14:55:07.075332Z",
     "start_time": "2020-02-17T14:55:05.622350Z"
    }
   },
   "outputs": [],
   "source": [
    "import seaborn as sns\n",
    "sns.set(style='whitegrid') # sets default plotting styles, check contextual help for more options"
   ]
  },
  {
   "cell_type": "code",
   "execution_count": null,
   "metadata": {
    "ExecuteTime": {
     "end_time": "2020-02-05T15:48:23.640739Z",
     "start_time": "2020-02-05T15:48:23.636167Z"
    }
   },
   "outputs": [],
   "source": [
    "# setting color palette\n",
    "#sns.set_palette(palette='tab20')"
   ]
  },
  {
   "cell_type": "markdown",
   "metadata": {},
   "source": [
    "**Same plot as above**"
   ]
  },
  {
   "cell_type": "code",
   "execution_count": null,
   "metadata": {
    "ExecuteTime": {
     "end_time": "2020-02-17T14:55:12.682356Z",
     "start_time": "2020-02-17T14:55:12.447822Z"
    }
   },
   "outputs": [],
   "source": [
    "plt.plot(x, np.sin(x))"
   ]
  },
  {
   "cell_type": "markdown",
   "metadata": {},
   "source": [
    "## Ploting multiple lines"
   ]
  },
  {
   "cell_type": "code",
   "execution_count": null,
   "metadata": {
    "ExecuteTime": {
     "end_time": "2020-02-17T14:55:19.771619Z",
     "start_time": "2020-02-17T14:55:19.430797Z"
    }
   },
   "outputs": [],
   "source": [
    "# lets do the lazy ploting of multiple lines\n",
    "plt.plot(x, np.sin(x))\n",
    "plt.plot(x, np.cos(x))"
   ]
  },
  {
   "cell_type": "markdown",
   "metadata": {},
   "source": [
    "Note that matplotlib automatically assigned different colours. Pretty smart, right? What if you don't like those colours? Let's see how we can customize it..."
   ]
  },
  {
   "cell_type": "markdown",
   "metadata": {},
   "source": [
    "## Adjusting colors and linestyles"
   ]
  },
  {
   "cell_type": "code",
   "execution_count": null,
   "metadata": {
    "ExecuteTime": {
     "end_time": "2020-02-17T14:55:21.956319Z",
     "start_time": "2020-02-17T14:55:21.670091Z"
    }
   },
   "outputs": [],
   "source": [
    "plt.plot(x, np.sin(x - 0), color='blue', linestyle='-')        # specify color by name\n",
    "plt.plot(x, np.sin(x - 1), color='g', linestyle='--')           # short color code (rgbcmyk)\n",
    "plt.plot(x, np.sin(x - 2), color='0.75', linestyle='-.')        # Grayscale between 0 and 1\n",
    "plt.plot(x, np.sin(x - 3), color='#FFDD44', linestyle=':')     # Hex code (RRGGBB from 00 to FF)\n",
    "plt.plot(x, np.sin(x - 4), color=(1.0,0.2,0.3)) # RGB tuple, values 0 and 1\n",
    "plt.plot(x, np.sin(x - 5), color='chartreuse'); # all HTML color names supported"
   ]
  },
  {
   "cell_type": "markdown",
   "metadata": {},
   "source": [
    "**Task:** Find a website with a list of HTML color names"
   ]
  },
  {
   "cell_type": "markdown",
   "metadata": {},
   "source": [
    "# Xarray"
   ]
  },
  {
   "cell_type": "markdown",
   "metadata": {},
   "source": [
    "As you know by now the climate model data is stored in `NetCDF` format which is a special way of storing multi-dimensional data. We will use a python library called `xarray` which is specifically designed to make our life easier to handle multi-dimensional data."
   ]
  },
  {
   "cell_type": "markdown",
   "metadata": {},
   "source": [
    "Lets import the libary as an alias"
   ]
  },
  {
   "cell_type": "code",
   "execution_count": null,
   "metadata": {
    "ExecuteTime": {
     "end_time": "2020-02-17T14:58:47.542513Z",
     "start_time": "2020-02-17T14:58:47.106263Z"
    }
   },
   "outputs": [],
   "source": [
    "\n",
    "import xarray as xr\n",
    "# library to work with climate model data format"
   ]
  },
  {
   "cell_type": "code",
   "execution_count": null,
   "metadata": {
    "ExecuteTime": {
     "end_time": "2020-02-17T14:58:50.084785Z",
     "start_time": "2020-02-17T14:58:50.074595Z"
    }
   },
   "outputs": [],
   "source": [
    "Image(url='http://xarray.pydata.org/en/stable/_images/dataset-diagram.png')\n"
   ]
  },
  {
   "cell_type": "markdown",
   "metadata": {},
   "source": [
    "This is how a multi-dimensional dataset looks like."
   ]
  },
  {
   "cell_type": "markdown",
   "metadata": {},
   "source": [
    "## Xarray Dataset"
   ]
  },
  {
   "cell_type": "code",
   "execution_count": null,
   "metadata": {
    "ExecuteTime": {
     "end_time": "2020-02-17T15:02:37.864711Z",
     "start_time": "2020-02-17T15:02:37.857912Z"
    }
   },
   "outputs": [],
   "source": [
    "# file to be plotted\n",
    "# Adapt it as per your need\n",
    "\n",
    "file1 = '/climriskdata/EUR-11N/ICHEC-EC-EARTH_SMHI-RCA4_v1/rcp85/tas/reduced_tas_EUR-11_ICHEC-EC-EARTH_rcp85_r12i1p1_SMHI-RCA4_v1_day_20710101-20751231_LL.nc'"
   ]
  },
  {
   "cell_type": "code",
   "execution_count": null,
   "metadata": {
    "ExecuteTime": {
     "end_time": "2020-02-17T15:02:38.961080Z",
     "start_time": "2020-02-17T15:02:38.078586Z"
    }
   },
   "outputs": [],
   "source": [
    "# lets load the data by using open_dataset function of xarray\n",
    "\n",
    "ds1 = xr.open_dataset(file1)\n",
    "ds1"
   ]
  },
  {
   "cell_type": "markdown",
   "metadata": {},
   "source": [
    "------------------------------------------------------------------------------------\n",
    "Here, you can see one of the reasons why `NetCDF` format is used. It presevers the metadata like standard name, units etc.\n",
    "\n",
    "What are the dimensions of the tas variable? \n",
    "\n",
    "`Note:` If your data file has only one variable then one can also use `xr.open_datarray()` to open the file "
   ]
  },
  {
   "cell_type": "markdown",
   "metadata": {},
   "source": [
    "## DataArray/Data variables"
   ]
  },
  {
   "cell_type": "markdown",
   "metadata": {},
   "source": [
    "Data Array is the actual data which the dataset holds. It can be a N-D numpy array. A dataset can hold multiple data variables. \n",
    "\n",
    "We see that this dataset has variables called `time_bnds` and `tas`"
   ]
  },
  {
   "cell_type": "markdown",
   "metadata": {},
   "source": [
    "Every `DataArray` contains:\n",
    "    \n",
    "* `dimensions`: Eg, lat, lon, time\n",
    "* `coordinates`: labels of each point in the form of a Python-dictionary\n",
    "* `attributes`: Metadata"
   ]
  },
  {
   "cell_type": "markdown",
   "metadata": {},
   "source": [
    "## Difference between dimensions and coordinates"
   ]
  },
  {
   "cell_type": "markdown",
   "metadata": {},
   "source": [
    "Coordinates are labels to your dimensions. This will be more clear when we look at selecting data examples"
   ]
  },
  {
   "cell_type": "markdown",
   "metadata": {},
   "source": [
    "## DataArray properties"
   ]
  },
  {
   "cell_type": "code",
   "execution_count": null,
   "metadata": {},
   "outputs": [],
   "source": [
    "ds1.tas.name"
   ]
  },
  {
   "cell_type": "code",
   "execution_count": null,
   "metadata": {},
   "outputs": [],
   "source": [
    "ds1.tas.data"
   ]
  },
  {
   "cell_type": "code",
   "execution_count": null,
   "metadata": {},
   "outputs": [],
   "source": [
    "ds1.tas.dims"
   ]
  },
  {
   "cell_type": "code",
   "execution_count": null,
   "metadata": {},
   "outputs": [],
   "source": [
    "ds1.tas.coords"
   ]
  },
  {
   "cell_type": "code",
   "execution_count": null,
   "metadata": {},
   "outputs": [],
   "source": [
    "ds1.tas.attrs"
   ]
  },
  {
   "cell_type": "markdown",
   "metadata": {},
   "source": [
    "## Different Ways of Selecting Data\n",
    "\n",
    "Basic positional based indexing same as in numpy works, but one has to know the specific position to extract the data"
   ]
  },
  {
   "cell_type": "code",
   "execution_count": null,
   "metadata": {},
   "outputs": [],
   "source": [
    "ds1.tas[0,1,1] # gives the time=0, lat=1, lon=1 position respectively"
   ]
  },
  {
   "cell_type": "code",
   "execution_count": null,
   "metadata": {
    "ExecuteTime": {
     "end_time": "2019-06-21T13:57:56.058360Z",
     "start_time": "2019-06-21T13:57:56.023242Z"
    }
   },
   "outputs": [],
   "source": [
    "# index style selecting\n",
    "ds1.tas.isel(time=0)"
   ]
  },
  {
   "cell_type": "markdown",
   "metadata": {},
   "source": [
    "---------------------------------------------------------------------------------------\n",
    "Another easy way to select the data by specifying the date as a string using `sel` method. This is label based selection which is possible thanks to `coordinates` in our data. It works on the principle of python dictionaries."
   ]
  },
  {
   "cell_type": "code",
   "execution_count": null,
   "metadata": {
    "ExecuteTime": {
     "end_time": "2019-06-21T13:57:56.120937Z",
     "start_time": "2019-06-21T13:57:56.061125Z"
    }
   },
   "outputs": [],
   "source": [
    "\n",
    "ds1.tas.sel(time='2071-05-15 12:00') "
   ]
  },
  {
   "cell_type": "code",
   "execution_count": null,
   "metadata": {
    "ExecuteTime": {
     "end_time": "2019-06-21T13:57:56.137173Z",
     "start_time": "2019-06-21T13:57:56.123811Z"
    }
   },
   "outputs": [],
   "source": [
    "# assigning a variable name to our data for easy access\n",
    "data_to_plot = ds1.tas.sel(time='2071-05-15 12:00')"
   ]
  },
  {
   "cell_type": "code",
   "execution_count": null,
   "metadata": {
    "ExecuteTime": {
     "end_time": "2019-06-21T13:57:57.156634Z",
     "start_time": "2019-06-21T13:57:56.142132Z"
    }
   },
   "outputs": [],
   "source": [
    "# ploting it, just one line\n",
    "data_to_plot.plot()"
   ]
  },
  {
   "cell_type": "markdown",
   "metadata": {},
   "source": [
    "Here, **we see how xarray makes our life so much easier for quick analysis.** We didn't have to specify a map or axis. It does everything intelligently in the background for us. This saves a lot of time for analysis."
   ]
  },
  {
   "cell_type": "markdown",
   "metadata": {},
   "source": [
    "This is just one of the many powerful features which xarray offers.\n",
    "\n",
    "**You can also do everything above in just one line using Python's powerful Object-oriented language features** "
   ]
  },
  {
   "cell_type": "code",
   "execution_count": null,
   "metadata": {
    "ExecuteTime": {
     "end_time": "2019-06-21T13:57:58.123620Z",
     "start_time": "2019-06-21T13:57:57.161781Z"
    }
   },
   "outputs": [],
   "source": [
    "# selecting and plotting the data in one line\n",
    "ds1.tas.isel(time=0).plot(); # add semicolon to suppress text output, depends on individual taste\n",
    "plt.title('My plot');"
   ]
  },
  {
   "cell_type": "code",
   "execution_count": null,
   "metadata": {
    "ExecuteTime": {
     "end_time": "2019-06-21T13:58:14.695178Z",
     "start_time": "2019-06-21T13:58:06.805297Z"
    },
    "scrolled": true
   },
   "outputs": [],
   "source": [
    "# selecting lat, lon values\n",
    "# quick time series plot for Bern\n",
    "ds1.tas.sel(lat=46.9, lon=7.4, method='nearest').plot();"
   ]
  },
  {
   "cell_type": "markdown",
   "metadata": {},
   "source": [
    "### Multiple plots"
   ]
  },
  {
   "cell_type": "code",
   "execution_count": null,
   "metadata": {
    "ExecuteTime": {
     "end_time": "2019-06-21T13:57:58.151775Z",
     "start_time": "2019-06-21T13:57:58.126576Z"
    }
   },
   "outputs": [],
   "source": [
    "## first we select data to plot\n",
    "## we can select multiple time-steps using slice function\n",
    "temp = ds1.tas.sel(time=slice('2071-05-15', '2071-05-18' ))\n",
    "temp # print preview of our data"
   ]
  },
  {
   "cell_type": "markdown",
   "metadata": {},
   "source": [
    "__Since, we have 4 time steps, we can plot it in a _2x2_ fashion__"
   ]
  },
  {
   "cell_type": "code",
   "execution_count": null,
   "metadata": {
    "ExecuteTime": {
     "end_time": "2019-06-21T13:58:01.710255Z",
     "start_time": "2019-06-21T13:57:58.154578Z"
    }
   },
   "outputs": [],
   "source": [
    "temp.plot(col='time',col_wrap=2);"
   ]
  },
  {
   "cell_type": "markdown",
   "metadata": {},
   "source": [
    "## Calling-basic numpy functions"
   ]
  },
  {
   "cell_type": "code",
   "execution_count": null,
   "metadata": {},
   "outputs": [],
   "source": [
    "ds1.tas.min()"
   ]
  },
  {
   "cell_type": "code",
   "execution_count": null,
   "metadata": {},
   "outputs": [],
   "source": [
    "ds1.tas.max()"
   ]
  },
  {
   "cell_type": "code",
   "execution_count": null,
   "metadata": {},
   "outputs": [],
   "source": [
    "# applying along a specific dimension\n",
    "ds1.tas.min(dim='time')"
   ]
  },
  {
   "cell_type": "code",
   "execution_count": null,
   "metadata": {},
   "outputs": [],
   "source": [
    "ds1.tas.min(dim='time').plot()"
   ]
  },
  {
   "cell_type": "markdown",
   "metadata": {},
   "source": [
    "**These numpy functions are also now directly supported in the latest xarray version**"
   ]
  },
  {
   "cell_type": "code",
   "execution_count": null,
   "metadata": {},
   "outputs": [],
   "source": [
    "np.min(ds1.tas)"
   ]
  },
  {
   "cell_type": "markdown",
   "metadata": {},
   "source": [
    "## Modyfying values inplace"
   ]
  },
  {
   "cell_type": "code",
   "execution_count": null,
   "metadata": {},
   "outputs": [],
   "source": [
    "# changing into deg Celsius\n",
    "ds1.tas.values = ds1.tas.values - 273.15"
   ]
  },
  {
   "cell_type": "markdown",
   "metadata": {},
   "source": [
    "Be careful when modifying data like that because the metadata says temperature is in Kelvin. So let's correct the meta data"
   ]
  },
  {
   "cell_type": "code",
   "execution_count": null,
   "metadata": {},
   "outputs": [],
   "source": [
    "ds1.tas.attrs"
   ]
  },
  {
   "cell_type": "code",
   "execution_count": null,
   "metadata": {},
   "outputs": [],
   "source": [
    "ds1.tas.attrs['units'] = 'degC'"
   ]
  },
  {
   "cell_type": "code",
   "execution_count": null,
   "metadata": {},
   "outputs": [],
   "source": [
    "ds1.tas.attrs"
   ]
  },
  {
   "cell_type": "code",
   "execution_count": null,
   "metadata": {},
   "outputs": [],
   "source": [
    "# check again\n",
    "ds1.tas"
   ]
  },
  {
   "cell_type": "code",
   "execution_count": null,
   "metadata": {},
   "outputs": [],
   "source": [
    "# To avoid confusion save it as a separate variable when you modify things inplace\n",
    "\n",
    "tas_in_degC = ds1.tas - 273.15\n",
    "\n",
    "# now the new variable is just an xarray dataarray"
   ]
  },
  {
   "cell_type": "code",
   "execution_count": null,
   "metadata": {},
   "outputs": [],
   "source": [
    "# now the new variable is just an xarray dataarray\n",
    "type(tas_in_degC)"
   ]
  },
  {
   "cell_type": "code",
   "execution_count": null,
   "metadata": {},
   "outputs": [],
   "source": [
    "type(ds1)"
   ]
  },
  {
   "cell_type": "markdown",
   "metadata": {},
   "source": [
    "## Saving file to disk"
   ]
  },
  {
   "cell_type": "markdown",
   "metadata": {},
   "source": [
    "Once you have your `data_to_plot` file, it is better to save the file to disk especially if the calculations to produce the file took a while.\n"
   ]
  },
  {
   "cell_type": "code",
   "execution_count": null,
   "metadata": {},
   "outputs": [],
   "source": [
    "data_to_plot"
   ]
  },
  {
   "cell_type": "code",
   "execution_count": null,
   "metadata": {},
   "outputs": [],
   "source": [
    "out_file = '/home/mali/workdir/data_to_plot.nc' # change it to your directory\n",
    "data_to_plot.to_netcdf(out_file)"
   ]
  },
  {
   "cell_type": "markdown",
   "metadata": {},
   "source": [
    "# Common Error Handling"
   ]
  },
  {
   "cell_type": "markdown",
   "metadata": {},
   "source": [
    "## Name error"
   ]
  },
  {
   "cell_type": "code",
   "execution_count": null,
   "metadata": {},
   "outputs": [],
   "source": [
    "ds"
   ]
  },
  {
   "cell_type": "code",
   "execution_count": null,
   "metadata": {},
   "outputs": [],
   "source": [
    "ds1.tas()"
   ]
  },
  {
   "cell_type": "markdown",
   "metadata": {},
   "source": [
    "## Key Error"
   ]
  },
  {
   "cell_type": "code",
   "execution_count": null,
   "metadata": {},
   "outputs": [],
   "source": [
    "ds1.sel(time='2000-01-01')"
   ]
  },
  {
   "cell_type": "markdown",
   "metadata": {},
   "source": [
    "## Value error"
   ]
  },
  {
   "cell_type": "code",
   "execution_count": null,
   "metadata": {},
   "outputs": [],
   "source": [
    "int(4.5)"
   ]
  },
  {
   "cell_type": "code",
   "execution_count": null,
   "metadata": {},
   "outputs": [],
   "source": [
    "int(\"cat\") "
   ]
  },
  {
   "cell_type": "code",
   "execution_count": null,
   "metadata": {},
   "outputs": [],
   "source": [
    "xr.open_dataarray(file1)"
   ]
  },
  {
   "cell_type": "markdown",
   "metadata": {},
   "source": [
    "## Type Error\n",
    "\n",
    "Common cause can be calling an object which is not a function."
   ]
  },
  {
   "cell_type": "code",
   "execution_count": null,
   "metadata": {},
   "outputs": [],
   "source": [
    "ds1.tas()"
   ]
  },
  {
   "cell_type": "raw",
   "metadata": {},
   "source": [
    "Show slicing error"
   ]
  },
  {
   "cell_type": "markdown",
   "metadata": {},
   "source": [
    "## Dealing with Errors\n",
    "\n",
    "* Asking Google for help\n",
    "* Looking up on stackoverflow for FAQs\n",
    "\n",
    "For example, Google this: `How to change the range of the x-axis and y-axis python?`\n",
    "\n",
    "You will most likely see the following [stackoverflow answer](https://stackoverflow.com/questions/29337123/how-to-change-the-range-of-the-x-axis-and-y-axis-in-matlibplot)"
   ]
  },
  {
   "cell_type": "markdown",
   "metadata": {},
   "source": [
    "# Closing and deleting dataset"
   ]
  },
  {
   "cell_type": "code",
   "execution_count": null,
   "metadata": {},
   "outputs": [],
   "source": [
    "ds1.close()\n",
    "del ds1 "
   ]
  },
  {
   "cell_type": "markdown",
   "metadata": {},
   "source": [
    "It will only delete ds1 variable, it won't delete the original data stroed on disk. Note: Xarray never modifies original data on the disk in all the operations we looked above. "
   ]
  },
  {
   "cell_type": "markdown",
   "metadata": {},
   "source": [
    "# References & Further Reading\n",
    "[xarray](http://xarray.pydata.org/)\n",
    "\n",
    "[Python Data Science Handbook - Visualization](https://www.oreilly.com/library/view/python-data-science/9781491912126/ch04.html)"
   ]
  }
 ],
 "metadata": {
  "kernelspec": {
   "display_name": "Python 3",
   "language": "python",
   "name": "python3"
  },
  "language_info": {
   "codemirror_mode": {
    "name": "ipython",
    "version": 3
   },
   "file_extension": ".py",
   "mimetype": "text/x-python",
   "name": "python",
   "nbconvert_exporter": "python",
   "pygments_lexer": "ipython3",
   "version": "3.7.5"
  },
  "toc": {
   "base_numbering": 1,
   "nav_menu": {},
   "number_sections": true,
   "sideBar": true,
   "skip_h1_title": false,
   "title_cell": "Table of Contents",
   "title_sidebar": "Contents",
   "toc_cell": true,
   "toc_position": {
    "height": "calc(100% - 180px)",
    "left": "10px",
    "top": "150px",
    "width": "165px"
   },
   "toc_section_display": true,
   "toc_window_display": true
  }
 },
 "nbformat": 4,
 "nbformat_minor": 4
}
