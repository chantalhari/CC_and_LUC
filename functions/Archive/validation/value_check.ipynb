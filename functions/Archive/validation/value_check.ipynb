{
 "cells": [
  {
   "cell_type": "code",
   "execution_count": null,
   "id": "46102985-c704-4e55-b121-91902a792d57",
   "metadata": {},
   "outputs": [],
   "source": [
    "#!/usr/bin/env python3\n",
    "#pip install  rioxarray==0.3.1\n",
    "import pandas as pd\n",
    "import xarray as xr\n",
    "import matplotlib.pyplot as plt\n",
    "import rioxarray\n",
    "import numpy as np\n",
    "import geopandas as gpd\n",
    "import cartopy.crs as ccrs\n",
    "import rasterio\n",
    "\n",
    "import os\n",
    "import matplotlib.colors\n",
    "scriptsdir = os.getcwd()\n",
    "from scipy.interpolate import griddata\n",
    "from functools import reduce\n",
    "import xarray\n",
    "import itertools\n",
    "import matplotlib.colors as mcolors\n",
    "import matplotlib.colors as colors\n",
    "from matplotlib.colors import ListedColormap, BoundaryNorm\n",
    "import matplotlib.gridspec as gridspec"
   ]
  },
  {
   "cell_type": "markdown",
   "id": "9fe1a953-f572-4932-b7fc-5b1d9b671646",
   "metadata": {},
   "source": [
    "### Check if 2100 values are between 0 and 1 "
   ]
  },
  {
   "cell_type": "code",
   "execution_count": null,
   "id": "d57649b7-2d4f-4141-9575-33dfb05d12ba",
   "metadata": {},
   "outputs": [],
   "source": [
    "import xarray as xr\n",
    "\n",
    "# Given lists\n",
    "future_times = [85]\n",
    "model=[\"GAM\"]\n",
    "scenarios = [\"rcp26\"]\n",
    "model_names = ['IPSL-CM5A-LR', 'HadGEM2-ES', 'MIROC5']\n",
    "netcdf_path_format = \"/storage/homefs/ch21o450/data/BioscenComb_2100/{}/{}/{}/{}/{}_[{}].nc\" \n",
    "\n",
    "for taxa in taxas:\n",
    "    for model in models:\n",
    "        dir_species = \"/storage/homefs/ch21o450/data/BioscenComb_2100/GAM/\" + taxa + \"/MIROC5/rcp26/\"\n",
    "        available_file = os.listdir(dir_species)\n",
    "        available_names = [x.split(\"_[1146].nc\")[0] for x in available_file]\n",
    "\n",
    "species_name = available_names  \n",
    "\n",
    "# Loop over the model_names and scenarios\n",
    "for species_name in available_names:\n",
    "    for model_name in model_names:\n",
    "        for scenario in scenarios:\n",
    "            for time in future_times:\n",
    "                # Open the dataset\n",
    "                ds = xr.open_dataset( f\"/storage/homefs/ch21o450/data/BioscenComb_2100/{model}/{taxa}/{model_name}/{scenario}/{species_name}\",engine='netcdf4', decode_times=False)\n",
    "\n",
    "                # Assume 'sum_bin' is part of this dataset ds\n",
    "                da_landuse = ds['sum_bin']\n",
    "\n",
    "                # Check if all values are between 0 and 1\n",
    "                min_value = da_landuse.min()\n",
    "                max_value = da_landuse.max()\n",
    "\n",
    "\n",
    "                # Prints if the min_value is below 0 or max_value above 1\n",
    "                if min_value < 0 or max_value > 1:\n",
    "                    print(f\"For model: {model_name}, scenario: {scenario}, time: {time} -> The 'sum_bin' DataArray has values outside the range [0, 1]. Min Value: {min_value}, Max Value: {max_value}\")\n",
    "                "
   ]
  }
 ],
 "metadata": {
  "kernelspec": {
   "display_name": "Python 3 (ipykernel)",
   "language": "python",
   "name": "python3"
  },
  "language_info": {
   "codemirror_mode": {
    "name": "ipython",
    "version": 3
   },
   "file_extension": ".py",
   "mimetype": "text/x-python",
   "name": "python",
   "nbconvert_exporter": "python",
   "pygments_lexer": "ipython3",
   "version": "3.9.7"
  }
 },
 "nbformat": 4,
 "nbformat_minor": 5
}
