{
 "cells": [
  {
   "cell_type": "code",
   "execution_count": 2,
   "id": "11b49b68-cfa8-471d-9d08-21b33b7adf81",
   "metadata": {},
   "outputs": [],
   "source": [
    "models=[\"GAM\"]\n",
    "taxas=[\"Amphibians\"]"
   ]
  },
  {
   "cell_type": "code",
   "execution_count": 6,
   "id": "422cf080-d301-4f23-8217-67da7fbd4520",
   "metadata": {},
   "outputs": [],
   "source": [
    "import os\n",
    "import xarray as xr\n",
    "\n",
    "# Define the directory path\n",
    "directory = \"/storage/scratch/users/ch21o450/data/LandClim_Output/\"\n",
    "\n",
    "# Define the taxas and models\n",
    "\n",
    "# Iterate over taxas and models\n",
    "for taxa in taxas:\n",
    "    for model in models:\n",
    "        dir_species = os.path.join(directory, model, taxa, \"EWEMBI\")\n",
    "        \n",
    "        # Get the list of files in the directory\n",
    "        files = os.listdir(dir_species)\n",
    "        \n",
    "        # Iterate over the files\n",
    "        for file_name in files:\n",
    "            file_path = os.path.join(dir_species, file_name)\n",
    "            \n",
    "            # Check if the file has only one variable \"newvalue\" and \"su_bin\" is missing\n",
    "            with xr.open_dataset(file_path, decode_times=False) as ds:\n",
    "                variables = list(ds.variables.keys())\n",
    "                if len(variables) == 1 and \"newvalue\" in variables and \"sum_bin\" not in variables:\n",
    "                    print(\"File matching deletion criteria found:\", file_path)\n",
    "                    # Delete the file\n",
    "                    os.remove(file_path)\n",
    "                    print(\"Deleted file:\", file_path)\n"
   ]
  }
 ],
 "metadata": {
  "kernelspec": {
   "display_name": "Python 3 (ipykernel)",
   "language": "python",
   "name": "python3"
  },
  "language_info": {
   "codemirror_mode": {
    "name": "ipython",
    "version": 3
   },
   "file_extension": ".py",
   "mimetype": "text/x-python",
   "name": "python",
   "nbconvert_exporter": "python",
   "pygments_lexer": "ipython3",
   "version": "3.9.7"
  }
 },
 "nbformat": 4,
 "nbformat_minor": 5
}
