{
 "cells": [
  {
   "cell_type": "code",
   "execution_count": null,
   "id": "8e22e486-808f-4433-806e-aeaa2b252940",
   "metadata": {},
   "outputs": [],
   "source": [
    "import xarray as xr\n",
    "sub_africa = xr.open_dataset(\"/storage/workspaces/wa_climate/climate_trt/chari/IPBES_subregions/output_Sub-saharan Africa_data.nc\")"
   ]
  },
  {
   "cell_type": "code",
   "execution_count": 2,
   "id": "c3a67b20-cd8c-4667-983d-bb079bb96a3c",
   "metadata": {},
   "outputs": [],
   "source": [
    "newvalue_future = xr.open_dataarray(f\"/storage/scratch/users/ch21o450/data/SR/SR_CC_65_rcp60.nc\", decode_times=False)"
   ]
  },
  {
   "cell_type": "code",
   "execution_count": null,
   "id": "59240ece-92aa-4017-9e70-2329afbda1de",
   "metadata": {},
   "outputs": [],
   "source": [
    "booly =sub_africa['Sub-saharan Africa_data'].where(sub_africa['Sub-saharan Africa_data']==1,1)"
   ]
  },
  {
   "cell_type": "code",
   "execution_count": null,
   "id": "c8795038-4668-4609-a775-d554d333ccd7",
   "metadata": {},
   "outputs": [],
   "source": [
    "mask = newvalue_future.where(booly)"
   ]
  },
  {
   "cell_type": "code",
   "execution_count": null,
   "id": "7d371949-5e7d-4116-8025-58ae73ac47ff",
   "metadata": {},
   "outputs": [],
   "source": [
    "mask.plot()"
   ]
  }
 ],
 "metadata": {
  "kernelspec": {
   "display_name": "Python 3 (ipykernel)",
   "language": "python",
   "name": "python3"
  },
  "language_info": {
   "codemirror_mode": {
    "name": "ipython",
    "version": 3
   },
   "file_extension": ".py",
   "mimetype": "text/x-python",
   "name": "python",
   "nbconvert_exporter": "python",
   "pygments_lexer": "ipython3",
   "version": "3.9.7"
  }
 },
 "nbformat": 4,
 "nbformat_minor": 5
}
