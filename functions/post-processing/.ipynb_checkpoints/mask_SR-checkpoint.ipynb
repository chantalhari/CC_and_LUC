{
 "cells": [
  {
   "cell_type": "code",
   "execution_count": 2,
   "id": "77d9cb18-e129-4ba9-94a9-9e6a601ed86c",
   "metadata": {},
   "outputs": [],
   "source": [
    "import xarray as xr\n"
   ]
  },
  {
   "cell_type": "code",
   "execution_count": 44,
   "id": "66546467-07be-49ed-b1d6-7125ecfd80fc",
   "metadata": {},
   "outputs": [],
   "source": [
    "newvalue_future = xr.open_dataset(f\"/storage/scratch/users/ch21o450/data/SR/SR_CC_65_rcp60.nc\", decode_times=False).to_array().isel(variable=0)"
   ]
  },
  {
   "cell_type": "code",
   "execution_count": 14,
   "id": "e3d8b652-aee5-4e8b-883b-7232bd86e28c",
   "metadata": {},
   "outputs": [
    {
     "ename": "AttributeError",
     "evalue": "'DataArray' object has no attribute 'salem'",
     "output_type": "error",
     "traceback": [
      "\u001b[0;31m---------------------------------------------------------------------------\u001b[0m",
      "\u001b[0;31mAttributeError\u001b[0m                            Traceback (most recent call last)",
      "\u001b[0;32m/scratch/local/1203566/ipykernel_93772/984674752.py\u001b[0m in \u001b[0;36m<module>\u001b[0;34m\u001b[0m\n\u001b[1;32m     31\u001b[0m \u001b[0;34m\u001b[0m\u001b[0m\n\u001b[1;32m     32\u001b[0m \u001b[0;31m# Mask the species richness data using the shapefile\u001b[0m\u001b[0;34m\u001b[0m\u001b[0;34m\u001b[0m\u001b[0m\n\u001b[0;32m---> 33\u001b[0;31m \u001b[0mspecies_richness_masked\u001b[0m \u001b[0;34m=\u001b[0m \u001b[0mnewvalue_future\u001b[0m\u001b[0;34m.\u001b[0m\u001b[0msalem\u001b[0m\u001b[0;34m.\u001b[0m\u001b[0mroi\u001b[0m\u001b[0;34m(\u001b[0m\u001b[0mshape\u001b[0m\u001b[0;34m=\u001b[0m\u001b[0mshp\u001b[0m\u001b[0;34m,\u001b[0m \u001b[0mindex_col\u001b[0m\u001b[0;34m=\u001b[0m\u001b[0;34m'new_region'\u001b[0m\u001b[0;34m)\u001b[0m\u001b[0;34m\u001b[0m\u001b[0;34m\u001b[0m\u001b[0m\n\u001b[0m\u001b[1;32m     34\u001b[0m \u001b[0;34m\u001b[0m\u001b[0m\n\u001b[1;32m     35\u001b[0m \u001b[0;31m# Calculate the mean species richness for each new region\u001b[0m\u001b[0;34m\u001b[0m\u001b[0;34m\u001b[0m\u001b[0m\n",
      "\u001b[0;32m~/.local/lib/python3.9/site-packages/xarray/core/common.py\u001b[0m in \u001b[0;36m__getattr__\u001b[0;34m(self, name)\u001b[0m\n\u001b[1;32m    274\u001b[0m                 \u001b[0;32mwith\u001b[0m \u001b[0msuppress\u001b[0m\u001b[0;34m(\u001b[0m\u001b[0mKeyError\u001b[0m\u001b[0;34m)\u001b[0m\u001b[0;34m:\u001b[0m\u001b[0;34m\u001b[0m\u001b[0;34m\u001b[0m\u001b[0m\n\u001b[1;32m    275\u001b[0m                     \u001b[0;32mreturn\u001b[0m \u001b[0msource\u001b[0m\u001b[0;34m[\u001b[0m\u001b[0mname\u001b[0m\u001b[0;34m]\u001b[0m\u001b[0;34m\u001b[0m\u001b[0;34m\u001b[0m\u001b[0m\n\u001b[0;32m--> 276\u001b[0;31m         raise AttributeError(\n\u001b[0m\u001b[1;32m    277\u001b[0m             \u001b[0;34mf\"{type(self).__name__!r} object has no attribute {name!r}\"\u001b[0m\u001b[0;34m\u001b[0m\u001b[0;34m\u001b[0m\u001b[0m\n\u001b[1;32m    278\u001b[0m         )\n",
      "\u001b[0;31mAttributeError\u001b[0m: 'DataArray' object has no attribute 'salem'"
     ]
    }
   ],
   "source": [
    "import xarray as xr\n",
    "import geopandas as gpd\n",
    "\n",
    "# Read the shapefile\n",
    "shp_dir = \"/storage/workspaces/wa_climate/climate_trt/chari/IPBES_subregions/IPBES_Regions_Subregions2.shp\"\n",
    "shp = gpd.read_file(shp_dir)\n",
    "\n",
    "# Define the region mapping\n",
    "region_mapping = {\n",
    "    'Caribbean': 'North America',  # Corrected typo in 'Caribbean'\n",
    "    'Central Africa': 'Sub-saharan Africa',\n",
    "    'Central and Western Europe': 'Central and Western Europe',\n",
    "    'Central Asia': 'Central Asia',\n",
    "    'East Africa and adjacent islands': 'Sub-saharan Africa',\n",
    "    'Eastern Europe': 'Eastern Europe',\n",
    "    'Mesoamerica': 'North America',\n",
    "    'North Africa': 'North Africa',\n",
    "    'North America': 'North America',\n",
    "    'North-East Asia': 'North-East Asia',  # Corrected typo in 'Nort-East Asia'\n",
    "    'Oceania': 'Oceania',\n",
    "    'South America': 'South America',\n",
    "    'South Asia': 'South Asia',\n",
    "    'South-East Asia': 'South-East Asia',\n",
    "    'Southern Africa': 'Sub-saharan Africa',\n",
    "    'West Africa': 'Sub-saharan Africa',\n",
    "    'Western Asia': 'Western Asia'\n",
    "}\n",
    "\n",
    "# Create the new_region column in the shapefile\n",
    "shp['new_region'] = shp['Sub_Region'].map(region_mapping)\n",
    "\n",
    "#"
   ]
  },
  {
   "cell_type": "code",
   "execution_count": 55,
   "id": "1664845a-df3c-4833-b42e-285f393d6050",
   "metadata": {},
   "outputs": [],
   "source": [
    "south_africa_gdf = shp[shp['new_region'] == 'Sub-saharan Africa']"
   ]
  },
  {
   "cell_type": "code",
   "execution_count": 63,
   "id": "b822f1c1-feb1-4013-b391-c2acc0a66422",
   "metadata": {},
   "outputs": [
    {
     "name": "stdout",
     "output_type": "stream",
     "text": [
      "Mean species richness for Sub-saharan Africa: 496.24569039010066\n"
     ]
    }
   ],
   "source": [
    "minx, miny, maxx, maxy = south_africa_gdf.geometry.total_bounds\n",
    "\n",
    "# Use the bounding box to create a boolean mask\n",
    "mask = (\n",
    "    (newvalue_future.lon >= minx) & (newvalue_future.lon <= maxx) &\n",
    "    (newvalue_future.lat >= miny) & (newvalue_future.lat <= maxy)\n",
    ")\n",
    "\n",
    "# Apply the mask to the DataArray\n",
    "region_data = newvalue_future.where(mask)\n",
    "\n",
    "# Calculate mean species richness\n",
    "mean_species_richness = region_data.mean(dim=['lat', 'lon']).item()\n",
    "\n",
    "print(f\"Mean species richness for Sub-saharan Africa: {mean_species_richness}\")\n"
   ]
  },
  {
   "cell_type": "code",
   "execution_count": 67,
   "id": "e2bd78d2-b9b7-44f9-a43b-2e841adffe4c",
   "metadata": {},
   "outputs": [
    {
     "data": {
      "text/plain": [
       "<matplotlib.collections.QuadMesh at 0x7f94f7f20a90>"
      ]
     },
     "execution_count": 67,
     "metadata": {},
     "output_type": "execute_result"
    },
    {
     "data": {
      "image/png": "[encoded data removed]",
      "text/plain": [
       "<Figure size 432x288 with 2 Axes>"
      ]
     },
     "metadata": {
      "needs_background": "light"
     },
     "output_type": "display_data"
    }
   ],
   "source": [
    "region_data.plot()"
   ]
  }
 ],
 "metadata": {
  "kernelspec": {
   "display_name": "Python 3 (ipykernel)",
   "language": "python",
   "name": "python3"
  },
  "language_info": {
   "codemirror_mode": {
    "name": "ipython",
    "version": 3
   },
   "file_extension": ".py",
   "mimetype": "text/x-python",
   "name": "python",
   "nbconvert_exporter": "python",
   "pygments_lexer": "ipython3",
   "version": "3.9.7"
  }
 },
 "nbformat": 4,
 "nbformat_minor": 5
}
