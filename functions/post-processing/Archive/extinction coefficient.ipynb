{
 "cells": [
  {
   "cell_type": "code",
   "execution_count": 1,
   "id": "629c5691-0f75-420f-9f96-277b33d3d464",
   "metadata": {},
   "outputs": [],
   "source": [
    "#!/usr/bin/env python3\n",
    "#pip install  rioxarray==0.3.1\n",
    "import pandas as pd\n",
    "import xarray as xr\n",
    "import matplotlib.pyplot as plt\n",
    "import rioxarray\n",
    "import numpy as np\n",
    "import geopandas as gpd\n",
    "import cartopy.crs as ccrs\n",
    "import rasterio\n",
    "import os\n",
    "import matplotlib.colors\n",
    "scriptsdir = os.getcwd()\n",
    "from scipy.interpolate import griddata\n",
    "from functools import reduce\n",
    "import xarray\n",
    "import itertools\n",
    "import argparse\n",
    "import matplotlib.colors as mcolors"
   ]
  },
  {
   "cell_type": "code",
   "execution_count": 2,
   "id": "aaf21d3b-72af-46a2-8e40-d4188f86f660",
   "metadata": {},
   "outputs": [],
   "source": [
    "models=[\"GAM\"]\n",
    "taxas=[\"Mammals\"]"
   ]
  },
  {
   "cell_type": "code",
   "execution_count": 5,
   "id": "e75c8540-f53d-42a0-aefc-ad7cb1d2f676",
   "metadata": {},
   "outputs": [],
   "source": [
    "\n",
    "\n",
    "model_names = ['GFDL-ESM2M', 'IPSL-CM5A-LR', 'HadGEM2-ES', 'MIROC5']\n",
    "years = ['1845', '1990', '1995', '2009', '2010', '2020', '2026', '2032', '2048', '2050',\n",
    "         '2052', '2056', '2080', '2100', '2150', '2200', '2250']\n",
    "\n",
    "for taxa in taxas:\n",
    "    for model in models:\n",
    "        dir_species = \"/storage/scratch/users/ch21o450/data/LandClim_Output/\" + model + \"/\" + taxa + \"/EWEMBI/\"\n",
    "        available_file = os.listdir(dir_species)\n",
    "        available_names = [x.split(\"_[1146].nc\")[0] for x in available_file]\n",
    "\n",
    "species_names = available_names[:100]\n",
    "#newvalue\n",
    "for taxa in taxas:\n",
    "    for model in models:\n",
    "        def calculate_extinct_species(time, model, netcdf_path_format, is_historical=False, scenario=None):\n",
    "            sum_bin_dict = {model_name: {} for model_name in model_names}\n",
    "\n",
    "            for model_name in model_names:\n",
    "                for species_name in species_names:\n",
    "                    if is_historical:\n",
    "                        ds = xr.open_dataset(netcdf_path_format.format(model, taxa, species_name, time), decode_times=False)\n",
    "                    else:\n",
    "                        ds = xr.open_dataset(netcdf_path_format.format(model, taxa, model_name, scenario, species_name, time), decode_times=False)\n",
    "                    sum_bin = ds[\"sum_bin\"]\n",
    "\n",
    "                    sum_bin_dict[model_name][species_name] = sum_bin\n",
    "\n",
    "            extinct_species_dict = {}\n",
    "\n",
    "            for species_name in species_names:\n",
    "                extinct_species_list = []\n",
    "                for model_name in model_names:\n",
    "                    sum_bin = sum_bin_dict[model_name][species_name]\n",
    "                    # count if sum_bin becomes zero, which represents extinct species\n",
    "                    extinct_species = (sum_bin == 0).sum().item()\n",
    "                    extinct_species_list.append(extinct_species)\n",
    "                extinct_species_total = sum(extinct_species_list)\n",
    "                extinct_species_dict[species_name] = extinct_species_total\n",
    "\n",
    "            return extinct_species_dict\n"
   ]
  },
  {
   "cell_type": "code",
   "execution_count": 6,
   "id": "30a5f157-ce92-485f-a742-9f7ecdf3d3ca",
   "metadata": {},
   "outputs": [
    {
     "data": {
      "image/png": "[encoded data removed]",
      "text/plain": [
       "<Figure size 720x432 with 1 Axes>"
      ]
     },
     "metadata": {
      "needs_background": "light"
     },
     "output_type": "display_data"
    }
   ],
   "source": [
    "import matplotlib.pyplot as plt\n",
    "\n",
    "historical_time = 1146\n",
    "future_times = [35, 65, 85]\n",
    "\n",
    "model_names = ['GFDL-ESM2M', 'IPSL-CM5A-LR', 'HadGEM2-ES', 'MIROC5']\n",
    "netcdf_path_format_future = \"/storage/scratch/users/ch21o450/data/LandClim_Output/{}/{}/{}/{}/{}_[{}].nc\"\n",
    "netcdf_path_format_hist = \"/storage/scratch/users/ch21o450/data/LandClim_Output/{}/{}/EWEMBI/{}_[{}].nc\"\n",
    "year_indices = {1146: '1995', 35: '2050', 65: '2080', 85: '2100'}\n",
    "# Create a dictionary to store extinct species count for each time period\n",
    "extinct_species_count = {}\n",
    "\n",
    "for taxa in taxas:\n",
    "    for model in models:\n",
    "        # Modify the following line to call the new calculate_extinct_species function\n",
    "        extinct_species_dict = calculate_extinct_species(historical_time, model, netcdf_path_format_hist, is_historical=True)\n",
    "        extinct_species_count[year_indices[historical_time]] = sum(extinct_species_dict.values())\n",
    "\n",
    "        for future_time in future_times:\n",
    "            if future_time == 35 or future_time == 65:\n",
    "                model_names = ['GFDL-ESM2M', 'IPSL-CM5A-LR', 'HadGEM2-ES', 'MIROC5']\n",
    "                scenarios = [\"rcp26\",\"rcp60\"]\n",
    "            elif future_time == 85:\n",
    "                model_names = ['IPSL-CM5A-LR', 'HadGEM2-ES', 'MIROC5']\n",
    "                scenarios = [\"rcp26\"]\n",
    "\n",
    "            for scenario in scenarios:\n",
    "                # Modify the following line to call the new calculate_extinct_species function\n",
    "                extinct_species_dict = calculate_extinct_species(future_time, model, netcdf_path_format_future, is_historical=False, scenario=scenario)\n",
    "                extinct_species_count[year_indices[future_time]] = sum(extinct_species_dict.values())\n",
    "\n",
    "# Plot the number of extinct species over time\n",
    "plt.figure(figsize=(10, 6))\n",
    "plt.plot(list(extinct_species_count.keys()), list(extinct_species_count.values()), marker='o')\n",
    "plt.xlabel('Year')\n",
    "plt.ylabel('Number of Extinct Species')\n",
    "plt.title('Number of Extinct Species Over Time')\n",
    "plt.grid(True)\n",
    "plt.show()\n"
   ]
  }
 ],
 "metadata": {
  "kernelspec": {
   "display_name": "Python 3 (ipykernel)",
   "language": "python",
   "name": "python3"
  },
  "language_info": {
   "codemirror_mode": {
    "name": "ipython",
    "version": 3
   },
   "file_extension": ".py",
   "mimetype": "text/x-python",
   "name": "python",
   "nbconvert_exporter": "python",
   "pygments_lexer": "ipython3",
   "version": "3.9.7"
  }
 },
 "nbformat": 4,
 "nbformat_minor": 5
}
