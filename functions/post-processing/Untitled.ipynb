{
 "cells": [
  {
   "cell_type": "code",
   "execution_count": 18,
   "id": "b6df57b0-8117-4274-9af4-a0b8c3e66f05",
   "metadata": {},
   "outputs": [],
   "source": [
    "import os\n",
    "import xarray as xr\n",
    "\n",
    "# Define the directory path\n",
    "directory = \"/storage/scratch/users/ch21o450/data/LandClim_Output_sanity/\"\n",
    "\n",
    "# Define the taxas and models\n",
    "\n",
    "# Iterate over taxas and models\n",
    "for taxa in taxas:\n",
    "    for model in models:\n",
    "        for model_name in model_names:\n",
    "            for scenario in scenarios:\n",
    "                dir_species = os.path.join(directory, model, taxa, model_name, scenario)\n",
    "\n",
    "                # Get the list of files in the directory\n",
    "                files = os.listdir(dir_species)\n",
    "\n",
    "                # Iterate over the files\n",
    "                for file_name in files:\n",
    "                    file_path = os.path.join(dir_species, file_name)\n",
    "\n",
    "                    # Check if the file has only one variable \"newvalue\" and \"su_bin\" is missing\n",
    "                    with xr.open_dataset(file_path, decode_times=False) as ds:\n",
    "                        variables = list(ds.variables.keys())\n",
    "                        if \"sum_bin\" not in variables:\n",
    "                            # Delete the file\n",
    "                            print(\"File matching deletion criteria found:\", file_path)\n",
    "                            os.remove(file_path)\n",
    "                            try:\n",
    "                                os.remove(file_path)\n",
    "                                print(\"Deleted file:\", file_path)\n",
    "                            except Exception as e:\n",
    "                                print(\"Error deleting file:\", file_path)\n",
    "                                print(\"Error details:\", e)\n",
    "\n"
   ]
  },
  {
   "cell_type": "code",
   "execution_count": 16,
   "id": "841acbde-9ad0-4ea4-a3dc-5d5bf6c51902",
   "metadata": {},
   "outputs": [
    {
     "ename": "KeyboardInterrupt",
     "evalue": "",
     "output_type": "error",
     "traceback": [
      "\u001b[0;31m---------------------------------------------------------------------------\u001b[0m",
      "\u001b[0;31mKeyboardInterrupt\u001b[0m                         Traceback (most recent call last)",
      "\u001b[0;32m/scratch/local/1723140/ipykernel_48047/1745866671.py\u001b[0m in \u001b[0;36m<module>\u001b[0;34m\u001b[0m\n\u001b[1;32m    139\u001b[0m             \u001b[0;32mfor\u001b[0m \u001b[0mscenario\u001b[0m \u001b[0;32min\u001b[0m \u001b[0mscenarios\u001b[0m\u001b[0;34m:\u001b[0m\u001b[0;34m\u001b[0m\u001b[0;34m\u001b[0m\u001b[0m\n\u001b[1;32m    140\u001b[0m \u001b[0;34m\u001b[0m\u001b[0m\n\u001b[0;32m--> 141\u001b[0;31m                 \u001b[0mmean_value_bin_future\u001b[0m \u001b[0;34m=\u001b[0m \u001b[0mnewvalue_fun\u001b[0m\u001b[0;34m(\u001b[0m\u001b[0mfuture_time\u001b[0m\u001b[0;34m,\u001b[0m \u001b[0mmodel\u001b[0m\u001b[0;34m,\u001b[0m \u001b[0mnetcdf_path_format_future\u001b[0m\u001b[0;34m,\u001b[0m \u001b[0mis_historical\u001b[0m\u001b[0;34m=\u001b[0m\u001b[0;32mFalse\u001b[0m\u001b[0;34m,\u001b[0m \u001b[0mscenario\u001b[0m\u001b[0;34m=\u001b[0m\u001b[0mscenario\u001b[0m\u001b[0;34m)\u001b[0m\u001b[0;34m\u001b[0m\u001b[0;34m\u001b[0m\u001b[0m\n\u001b[0m\u001b[1;32m    142\u001b[0m                 \u001b[0mmean_sum_bin_future\u001b[0m \u001b[0;34m=\u001b[0m \u001b[0mcalculate_mean\u001b[0m\u001b[0;34m(\u001b[0m\u001b[0mfuture_time\u001b[0m\u001b[0;34m,\u001b[0m \u001b[0mmodel\u001b[0m\u001b[0;34m,\u001b[0m \u001b[0mnetcdf_path_format_future\u001b[0m\u001b[0;34m,\u001b[0m \u001b[0mis_historical\u001b[0m\u001b[0;34m=\u001b[0m\u001b[0;32mFalse\u001b[0m\u001b[0;34m,\u001b[0m \u001b[0mscenario\u001b[0m\u001b[0;34m=\u001b[0m\u001b[0mscenario\u001b[0m\u001b[0;34m)\u001b[0m\u001b[0;34m\u001b[0m\u001b[0;34m\u001b[0m\u001b[0m\n\u001b[1;32m    143\u001b[0m                 \u001b[0mmean_sum_bin_future\u001b[0m \u001b[0;34m=\u001b[0m \u001b[0mmean_sum_bin_future\u001b[0m\u001b[0;34m.\u001b[0m\u001b[0misel\u001b[0m\u001b[0;34m(\u001b[0m\u001b[0mtime\u001b[0m\u001b[0;34m=\u001b[0m\u001b[0;36m0\u001b[0m\u001b[0;34m)\u001b[0m\u001b[0;34m\u001b[0m\u001b[0;34m\u001b[0m\u001b[0m\n",
      "\u001b[0;32m/scratch/local/1723140/ipykernel_48047/1745866671.py\u001b[0m in \u001b[0;36mnewvalue_fun\u001b[0;34m(time, model, netcdf_path_format, is_historical, scenario)\u001b[0m\n\u001b[1;32m     59\u001b[0m \u001b[0;34m\u001b[0m\u001b[0m\n\u001b[1;32m     60\u001b[0m             \u001b[0mvalue_list\u001b[0m\u001b[0;34m.\u001b[0m\u001b[0mappend\u001b[0m\u001b[0;34m(\u001b[0m\u001b[0mvalue_bin\u001b[0m\u001b[0;34m)\u001b[0m\u001b[0;34m\u001b[0m\u001b[0;34m\u001b[0m\u001b[0m\n\u001b[0;32m---> 61\u001b[0;31m         \u001b[0mvalue_bin_concat\u001b[0m \u001b[0;34m=\u001b[0m \u001b[0mxr\u001b[0m\u001b[0;34m.\u001b[0m\u001b[0mconcat\u001b[0m\u001b[0;34m(\u001b[0m\u001b[0mvalue_list\u001b[0m\u001b[0;34m,\u001b[0m \u001b[0mdim\u001b[0m\u001b[0;34m=\u001b[0m\u001b[0;34m\"model_name\"\u001b[0m\u001b[0;34m)\u001b[0m\u001b[0;34m\u001b[0m\u001b[0;34m\u001b[0m\u001b[0m\n\u001b[0m\u001b[1;32m     62\u001b[0m         \u001b[0mmean_value_bin\u001b[0m \u001b[0;34m=\u001b[0m \u001b[0mvalue_bin_concat\u001b[0m\u001b[0;34m.\u001b[0m\u001b[0mmean\u001b[0m\u001b[0;34m(\u001b[0m\u001b[0mdim\u001b[0m\u001b[0;34m=\u001b[0m\u001b[0;34m\"model_name\"\u001b[0m\u001b[0;34m)\u001b[0m\u001b[0;34m\u001b[0m\u001b[0;34m\u001b[0m\u001b[0m\n\u001b[1;32m     63\u001b[0m         \u001b[0mprojections_dict\u001b[0m\u001b[0;34m[\u001b[0m\u001b[0mspecies_name\u001b[0m\u001b[0;34m]\u001b[0m \u001b[0;34m=\u001b[0m \u001b[0mmean_value_bin\u001b[0m\u001b[0;34m\u001b[0m\u001b[0;34m\u001b[0m\u001b[0m\n",
      "\u001b[0;32m~/.local/lib/python3.9/site-packages/xarray/core/concat.py\u001b[0m in \u001b[0;36mconcat\u001b[0;34m(objs, dim, data_vars, coords, compat, positions, fill_value, join, combine_attrs)\u001b[0m\n\u001b[1;32m    235\u001b[0m \u001b[0;34m\u001b[0m\u001b[0m\n\u001b[1;32m    236\u001b[0m     \u001b[0;32mif\u001b[0m \u001b[0misinstance\u001b[0m\u001b[0;34m(\u001b[0m\u001b[0mfirst_obj\u001b[0m\u001b[0;34m,\u001b[0m \u001b[0mDataArray\u001b[0m\u001b[0;34m)\u001b[0m\u001b[0;34m:\u001b[0m\u001b[0;34m\u001b[0m\u001b[0;34m\u001b[0m\u001b[0m\n\u001b[0;32m--> 237\u001b[0;31m         return _dataarray_concat(\n\u001b[0m\u001b[1;32m    238\u001b[0m             \u001b[0mobjs\u001b[0m\u001b[0;34m,\u001b[0m\u001b[0;34m\u001b[0m\u001b[0;34m\u001b[0m\u001b[0m\n\u001b[1;32m    239\u001b[0m             \u001b[0mdim\u001b[0m\u001b[0;34m=\u001b[0m\u001b[0mdim\u001b[0m\u001b[0;34m,\u001b[0m\u001b[0;34m\u001b[0m\u001b[0;34m\u001b[0m\u001b[0m\n",
      "\u001b[0;32m~/.local/lib/python3.9/site-packages/xarray/core/concat.py\u001b[0m in \u001b[0;36m_dataarray_concat\u001b[0;34m(arrays, dim, data_vars, coords, compat, positions, fill_value, join, combine_attrs)\u001b[0m\n\u001b[1;32m    700\u001b[0m         \u001b[0mdatasets\u001b[0m\u001b[0;34m.\u001b[0m\u001b[0mappend\u001b[0m\u001b[0;34m(\u001b[0m\u001b[0marr\u001b[0m\u001b[0;34m.\u001b[0m\u001b[0m_to_temp_dataset\u001b[0m\u001b[0;34m(\u001b[0m\u001b[0;34m)\u001b[0m\u001b[0;34m)\u001b[0m\u001b[0;34m\u001b[0m\u001b[0;34m\u001b[0m\u001b[0m\n\u001b[1;32m    701\u001b[0m \u001b[0;34m\u001b[0m\u001b[0m\n\u001b[0;32m--> 702\u001b[0;31m     ds = _dataset_concat(\n\u001b[0m\u001b[1;32m    703\u001b[0m         \u001b[0mdatasets\u001b[0m\u001b[0;34m,\u001b[0m\u001b[0;34m\u001b[0m\u001b[0;34m\u001b[0m\u001b[0m\n\u001b[1;32m    704\u001b[0m         \u001b[0mdim\u001b[0m\u001b[0;34m,\u001b[0m\u001b[0;34m\u001b[0m\u001b[0;34m\u001b[0m\u001b[0m\n",
      "\u001b[0;32m~/.local/lib/python3.9/site-packages/xarray/core/concat.py\u001b[0m in \u001b[0;36m_dataset_concat\u001b[0;34m(datasets, dim, data_vars, coords, compat, positions, fill_value, join, combine_attrs)\u001b[0m\n\u001b[1;32m    636\u001b[0m             \u001b[0mresult_vars\u001b[0m\u001b[0;34m[\u001b[0m\u001b[0mname\u001b[0m\u001b[0;34m]\u001b[0m \u001b[0;34m=\u001b[0m \u001b[0mresult_vars\u001b[0m\u001b[0;34m.\u001b[0m\u001b[0mpop\u001b[0m\u001b[0;34m(\u001b[0m\u001b[0mname\u001b[0m\u001b[0;34m)\u001b[0m\u001b[0;34m\u001b[0m\u001b[0;34m\u001b[0m\u001b[0m\n\u001b[1;32m    637\u001b[0m \u001b[0;34m\u001b[0m\u001b[0m\n\u001b[0;32m--> 638\u001b[0;31m     \u001b[0mresult\u001b[0m \u001b[0;34m=\u001b[0m \u001b[0mtype\u001b[0m\u001b[0;34m(\u001b[0m\u001b[0mdatasets\u001b[0m\u001b[0;34m[\u001b[0m\u001b[0;36m0\u001b[0m\u001b[0;34m]\u001b[0m\u001b[0;34m)\u001b[0m\u001b[0;34m(\u001b[0m\u001b[0mresult_vars\u001b[0m\u001b[0;34m,\u001b[0m \u001b[0mattrs\u001b[0m\u001b[0;34m=\u001b[0m\u001b[0mresult_attrs\u001b[0m\u001b[0;34m)\u001b[0m\u001b[0;34m\u001b[0m\u001b[0;34m\u001b[0m\u001b[0m\n\u001b[0m\u001b[1;32m    639\u001b[0m \u001b[0;34m\u001b[0m\u001b[0m\n\u001b[1;32m    640\u001b[0m     \u001b[0mabsent_coord_names\u001b[0m \u001b[0;34m=\u001b[0m \u001b[0mcoord_names\u001b[0m \u001b[0;34m-\u001b[0m \u001b[0mset\u001b[0m\u001b[0;34m(\u001b[0m\u001b[0mresult\u001b[0m\u001b[0;34m.\u001b[0m\u001b[0mvariables\u001b[0m\u001b[0;34m)\u001b[0m\u001b[0;34m\u001b[0m\u001b[0;34m\u001b[0m\u001b[0m\n",
      "\u001b[0;32m~/.local/lib/python3.9/site-packages/xarray/core/dataset.py\u001b[0m in \u001b[0;36m__init__\u001b[0;34m(self, data_vars, coords, attrs)\u001b[0m\n\u001b[1;32m    610\u001b[0m             \u001b[0mcoords\u001b[0m \u001b[0;34m=\u001b[0m \u001b[0mcoords\u001b[0m\u001b[0;34m.\u001b[0m\u001b[0mvariables\u001b[0m\u001b[0;34m\u001b[0m\u001b[0;34m\u001b[0m\u001b[0m\n\u001b[1;32m    611\u001b[0m \u001b[0;34m\u001b[0m\u001b[0m\n\u001b[0;32m--> 612\u001b[0;31m         variables, coord_names, dims, indexes, _ = merge_data_and_coords(\n\u001b[0m\u001b[1;32m    613\u001b[0m             \u001b[0mdata_vars\u001b[0m\u001b[0;34m,\u001b[0m \u001b[0mcoords\u001b[0m\u001b[0;34m,\u001b[0m \u001b[0mcompat\u001b[0m\u001b[0;34m=\u001b[0m\u001b[0;34m\"broadcast_equals\"\u001b[0m\u001b[0;34m\u001b[0m\u001b[0;34m\u001b[0m\u001b[0m\n\u001b[1;32m    614\u001b[0m         )\n",
      "\u001b[0;32m~/.local/lib/python3.9/site-packages/xarray/core/merge.py\u001b[0m in \u001b[0;36mmerge_data_and_coords\u001b[0;34m(data_vars, coords, compat, join)\u001b[0m\n\u001b[1;32m    562\u001b[0m     \u001b[0mobjects\u001b[0m \u001b[0;34m=\u001b[0m \u001b[0;34m[\u001b[0m\u001b[0mdata_vars\u001b[0m\u001b[0;34m,\u001b[0m \u001b[0mcoords\u001b[0m\u001b[0;34m]\u001b[0m\u001b[0;34m\u001b[0m\u001b[0;34m\u001b[0m\u001b[0m\n\u001b[1;32m    563\u001b[0m     \u001b[0mexplicit_coords\u001b[0m \u001b[0;34m=\u001b[0m \u001b[0mcoords\u001b[0m\u001b[0;34m.\u001b[0m\u001b[0mkeys\u001b[0m\u001b[0;34m(\u001b[0m\u001b[0;34m)\u001b[0m\u001b[0;34m\u001b[0m\u001b[0;34m\u001b[0m\u001b[0m\n\u001b[0;32m--> 564\u001b[0;31m     return merge_core(\n\u001b[0m\u001b[1;32m    565\u001b[0m         \u001b[0mobjects\u001b[0m\u001b[0;34m,\u001b[0m\u001b[0;34m\u001b[0m\u001b[0;34m\u001b[0m\u001b[0m\n\u001b[1;32m    566\u001b[0m         \u001b[0mcompat\u001b[0m\u001b[0;34m,\u001b[0m\u001b[0;34m\u001b[0m\u001b[0;34m\u001b[0m\u001b[0m\n",
      "\u001b[0;32m~/.local/lib/python3.9/site-packages/xarray/core/merge.py\u001b[0m in \u001b[0;36mmerge_core\u001b[0;34m(objects, compat, join, combine_attrs, priority_arg, explicit_coords, indexes, fill_value)\u001b[0m\n\u001b[1;32m    742\u001b[0m         \u001b[0mcoerced\u001b[0m\u001b[0;34m,\u001b[0m \u001b[0mjoin\u001b[0m\u001b[0;34m=\u001b[0m\u001b[0mjoin\u001b[0m\u001b[0;34m,\u001b[0m \u001b[0mcopy\u001b[0m\u001b[0;34m=\u001b[0m\u001b[0;32mFalse\u001b[0m\u001b[0;34m,\u001b[0m \u001b[0mindexes\u001b[0m\u001b[0;34m=\u001b[0m\u001b[0mindexes\u001b[0m\u001b[0;34m,\u001b[0m \u001b[0mfill_value\u001b[0m\u001b[0;34m=\u001b[0m\u001b[0mfill_value\u001b[0m\u001b[0;34m\u001b[0m\u001b[0;34m\u001b[0m\u001b[0m\n\u001b[1;32m    743\u001b[0m     )\n\u001b[0;32m--> 744\u001b[0;31m     \u001b[0mcollected\u001b[0m \u001b[0;34m=\u001b[0m \u001b[0mcollect_variables_and_indexes\u001b[0m\u001b[0;34m(\u001b[0m\u001b[0maligned\u001b[0m\u001b[0;34m,\u001b[0m \u001b[0mindexes\u001b[0m\u001b[0;34m=\u001b[0m\u001b[0mindexes\u001b[0m\u001b[0;34m)\u001b[0m\u001b[0;34m\u001b[0m\u001b[0;34m\u001b[0m\u001b[0m\n\u001b[0m\u001b[1;32m    745\u001b[0m     \u001b[0mprioritized\u001b[0m \u001b[0;34m=\u001b[0m \u001b[0m_get_priority_vars_and_indexes\u001b[0m\u001b[0;34m(\u001b[0m\u001b[0maligned\u001b[0m\u001b[0;34m,\u001b[0m \u001b[0mpriority_arg\u001b[0m\u001b[0;34m,\u001b[0m \u001b[0mcompat\u001b[0m\u001b[0;34m=\u001b[0m\u001b[0mcompat\u001b[0m\u001b[0;34m)\u001b[0m\u001b[0;34m\u001b[0m\u001b[0;34m\u001b[0m\u001b[0m\n\u001b[1;32m    746\u001b[0m     variables, out_indexes = merge_collected(\n",
      "\u001b[0;32m~/.local/lib/python3.9/site-packages/xarray/core/merge.py\u001b[0m in \u001b[0;36mcollect_variables_and_indexes\u001b[0;34m(list_of_mappings, indexes)\u001b[0m\n\u001b[1;32m    356\u001b[0m                 \u001b[0mappend\u001b[0m\u001b[0;34m(\u001b[0m\u001b[0mname\u001b[0m\u001b[0;34m,\u001b[0m \u001b[0mvariable\u001b[0m\u001b[0;34m,\u001b[0m \u001b[0mindexes\u001b[0m\u001b[0;34m[\u001b[0m\u001b[0mname\u001b[0m\u001b[0;34m]\u001b[0m\u001b[0;34m)\u001b[0m\u001b[0;34m\u001b[0m\u001b[0;34m\u001b[0m\u001b[0m\n\u001b[1;32m    357\u001b[0m             \u001b[0;32melif\u001b[0m \u001b[0mvariable\u001b[0m\u001b[0;34m.\u001b[0m\u001b[0mdims\u001b[0m \u001b[0;34m==\u001b[0m \u001b[0;34m(\u001b[0m\u001b[0mname\u001b[0m\u001b[0;34m,\u001b[0m\u001b[0;34m)\u001b[0m\u001b[0;34m:\u001b[0m\u001b[0;34m\u001b[0m\u001b[0;34m\u001b[0m\u001b[0m\n\u001b[0;32m--> 358\u001b[0;31m                 \u001b[0midx\u001b[0m\u001b[0;34m,\u001b[0m \u001b[0midx_vars\u001b[0m \u001b[0;34m=\u001b[0m \u001b[0mcreate_default_index_implicit\u001b[0m\u001b[0;34m(\u001b[0m\u001b[0mvariable\u001b[0m\u001b[0;34m)\u001b[0m\u001b[0;34m\u001b[0m\u001b[0;34m\u001b[0m\u001b[0m\n\u001b[0m\u001b[1;32m    359\u001b[0m                 \u001b[0mappend_all\u001b[0m\u001b[0;34m(\u001b[0m\u001b[0midx_vars\u001b[0m\u001b[0;34m,\u001b[0m \u001b[0;34m{\u001b[0m\u001b[0mk\u001b[0m\u001b[0;34m:\u001b[0m \u001b[0midx\u001b[0m \u001b[0;32mfor\u001b[0m \u001b[0mk\u001b[0m \u001b[0;32min\u001b[0m \u001b[0midx_vars\u001b[0m\u001b[0;34m}\u001b[0m\u001b[0;34m)\u001b[0m\u001b[0;34m\u001b[0m\u001b[0;34m\u001b[0m\u001b[0m\n\u001b[1;32m    360\u001b[0m             \u001b[0;32melse\u001b[0m\u001b[0;34m:\u001b[0m\u001b[0;34m\u001b[0m\u001b[0;34m\u001b[0m\u001b[0m\n",
      "\u001b[0;32m~/.local/lib/python3.9/site-packages/xarray/core/indexes.py\u001b[0m in \u001b[0;36mcreate_default_index_implicit\u001b[0;34m(dim_variable, all_variables)\u001b[0m\n\u001b[1;32m   1069\u001b[0m         \u001b[0mdim_var\u001b[0m \u001b[0;34m=\u001b[0m \u001b[0;34m{\u001b[0m\u001b[0mname\u001b[0m\u001b[0;34m:\u001b[0m \u001b[0mdim_variable\u001b[0m\u001b[0;34m}\u001b[0m\u001b[0;34m\u001b[0m\u001b[0;34m\u001b[0m\u001b[0m\n\u001b[1;32m   1070\u001b[0m         \u001b[0mindex\u001b[0m \u001b[0;34m=\u001b[0m \u001b[0mPandasIndex\u001b[0m\u001b[0;34m.\u001b[0m\u001b[0mfrom_variables\u001b[0m\u001b[0;34m(\u001b[0m\u001b[0mdim_var\u001b[0m\u001b[0;34m,\u001b[0m \u001b[0moptions\u001b[0m\u001b[0;34m=\u001b[0m\u001b[0;34m{\u001b[0m\u001b[0;34m}\u001b[0m\u001b[0;34m)\u001b[0m\u001b[0;34m\u001b[0m\u001b[0;34m\u001b[0m\u001b[0m\n\u001b[0;32m-> 1071\u001b[0;31m         \u001b[0mindex_vars\u001b[0m \u001b[0;34m=\u001b[0m \u001b[0mindex\u001b[0m\u001b[0;34m.\u001b[0m\u001b[0mcreate_variables\u001b[0m\u001b[0;34m(\u001b[0m\u001b[0mdim_var\u001b[0m\u001b[0;34m)\u001b[0m\u001b[0;34m\u001b[0m\u001b[0;34m\u001b[0m\u001b[0m\n\u001b[0m\u001b[1;32m   1072\u001b[0m \u001b[0;34m\u001b[0m\u001b[0m\n\u001b[1;32m   1073\u001b[0m     \u001b[0;32mreturn\u001b[0m \u001b[0mindex\u001b[0m\u001b[0;34m,\u001b[0m \u001b[0mindex_vars\u001b[0m\u001b[0;34m\u001b[0m\u001b[0;34m\u001b[0m\u001b[0m\n",
      "\u001b[0;32m~/.local/lib/python3.9/site-packages/xarray/core/indexes.py\u001b[0m in \u001b[0;36mcreate_variables\u001b[0;34m(self, variables)\u001b[0m\n\u001b[1;32m    396\u001b[0m \u001b[0;34m\u001b[0m\u001b[0m\n\u001b[1;32m    397\u001b[0m         \u001b[0mdata\u001b[0m \u001b[0;34m=\u001b[0m \u001b[0mPandasIndexingAdapter\u001b[0m\u001b[0;34m(\u001b[0m\u001b[0mself\u001b[0m\u001b[0;34m.\u001b[0m\u001b[0mindex\u001b[0m\u001b[0;34m,\u001b[0m \u001b[0mdtype\u001b[0m\u001b[0;34m=\u001b[0m\u001b[0mself\u001b[0m\u001b[0;34m.\u001b[0m\u001b[0mcoord_dtype\u001b[0m\u001b[0;34m)\u001b[0m\u001b[0;34m\u001b[0m\u001b[0;34m\u001b[0m\u001b[0m\n\u001b[0;32m--> 398\u001b[0;31m         \u001b[0mvar\u001b[0m \u001b[0;34m=\u001b[0m \u001b[0mIndexVariable\u001b[0m\u001b[0;34m(\u001b[0m\u001b[0mself\u001b[0m\u001b[0;34m.\u001b[0m\u001b[0mdim\u001b[0m\u001b[0;34m,\u001b[0m \u001b[0mdata\u001b[0m\u001b[0;34m,\u001b[0m \u001b[0mattrs\u001b[0m\u001b[0;34m=\u001b[0m\u001b[0mattrs\u001b[0m\u001b[0;34m,\u001b[0m \u001b[0mencoding\u001b[0m\u001b[0;34m=\u001b[0m\u001b[0mencoding\u001b[0m\u001b[0;34m)\u001b[0m\u001b[0;34m\u001b[0m\u001b[0;34m\u001b[0m\u001b[0m\n\u001b[0m\u001b[1;32m    399\u001b[0m         \u001b[0;32mreturn\u001b[0m \u001b[0;34m{\u001b[0m\u001b[0mname\u001b[0m\u001b[0;34m:\u001b[0m \u001b[0mvar\u001b[0m\u001b[0;34m}\u001b[0m\u001b[0;34m\u001b[0m\u001b[0;34m\u001b[0m\u001b[0m\n\u001b[1;32m    400\u001b[0m \u001b[0;34m\u001b[0m\u001b[0m\n",
      "\u001b[0;32m~/.local/lib/python3.9/site-packages/xarray/core/variable.py\u001b[0m in \u001b[0;36m__init__\u001b[0;34m(self, dims, data, attrs, encoding, fastpath)\u001b[0m\n\u001b[1;32m   2851\u001b[0m \u001b[0;34m\u001b[0m\u001b[0m\n\u001b[1;32m   2852\u001b[0m     \u001b[0;32mdef\u001b[0m \u001b[0m__init__\u001b[0m\u001b[0;34m(\u001b[0m\u001b[0mself\u001b[0m\u001b[0;34m,\u001b[0m \u001b[0mdims\u001b[0m\u001b[0;34m,\u001b[0m \u001b[0mdata\u001b[0m\u001b[0;34m,\u001b[0m \u001b[0mattrs\u001b[0m\u001b[0;34m=\u001b[0m\u001b[0;32mNone\u001b[0m\u001b[0;34m,\u001b[0m \u001b[0mencoding\u001b[0m\u001b[0;34m=\u001b[0m\u001b[0;32mNone\u001b[0m\u001b[0;34m,\u001b[0m \u001b[0mfastpath\u001b[0m\u001b[0;34m=\u001b[0m\u001b[0;32mFalse\u001b[0m\u001b[0;34m)\u001b[0m\u001b[0;34m:\u001b[0m\u001b[0;34m\u001b[0m\u001b[0;34m\u001b[0m\u001b[0m\n\u001b[0;32m-> 2853\u001b[0;31m         \u001b[0msuper\u001b[0m\u001b[0;34m(\u001b[0m\u001b[0;34m)\u001b[0m\u001b[0;34m.\u001b[0m\u001b[0m__init__\u001b[0m\u001b[0;34m(\u001b[0m\u001b[0mdims\u001b[0m\u001b[0;34m,\u001b[0m \u001b[0mdata\u001b[0m\u001b[0;34m,\u001b[0m \u001b[0mattrs\u001b[0m\u001b[0;34m,\u001b[0m \u001b[0mencoding\u001b[0m\u001b[0;34m,\u001b[0m \u001b[0mfastpath\u001b[0m\u001b[0;34m)\u001b[0m\u001b[0;34m\u001b[0m\u001b[0;34m\u001b[0m\u001b[0m\n\u001b[0m\u001b[1;32m   2854\u001b[0m         \u001b[0;32mif\u001b[0m \u001b[0mself\u001b[0m\u001b[0;34m.\u001b[0m\u001b[0mndim\u001b[0m \u001b[0;34m!=\u001b[0m \u001b[0;36m1\u001b[0m\u001b[0;34m:\u001b[0m\u001b[0;34m\u001b[0m\u001b[0;34m\u001b[0m\u001b[0m\n\u001b[1;32m   2855\u001b[0m             \u001b[0;32mraise\u001b[0m \u001b[0mValueError\u001b[0m\u001b[0;34m(\u001b[0m\u001b[0;34mf\"{type(self).__name__} objects must be 1-dimensional\"\u001b[0m\u001b[0;34m)\u001b[0m\u001b[0;34m\u001b[0m\u001b[0;34m\u001b[0m\u001b[0m\n",
      "\u001b[0;32m~/.local/lib/python3.9/site-packages/xarray/core/variable.py\u001b[0m in \u001b[0;36m__init__\u001b[0;34m(self, dims, data, attrs, encoding, fastpath)\u001b[0m\n\u001b[1;32m    366\u001b[0m             \u001b[0mself\u001b[0m\u001b[0;34m.\u001b[0m\u001b[0mattrs\u001b[0m \u001b[0;34m=\u001b[0m \u001b[0mattrs\u001b[0m\u001b[0;34m\u001b[0m\u001b[0;34m\u001b[0m\u001b[0m\n\u001b[1;32m    367\u001b[0m         \u001b[0;32mif\u001b[0m \u001b[0mencoding\u001b[0m \u001b[0;32mis\u001b[0m \u001b[0;32mnot\u001b[0m \u001b[0;32mNone\u001b[0m\u001b[0;34m:\u001b[0m\u001b[0;34m\u001b[0m\u001b[0;34m\u001b[0m\u001b[0m\n\u001b[0;32m--> 368\u001b[0;31m             \u001b[0mself\u001b[0m\u001b[0;34m.\u001b[0m\u001b[0mencoding\u001b[0m \u001b[0;34m=\u001b[0m \u001b[0mencoding\u001b[0m\u001b[0;34m\u001b[0m\u001b[0;34m\u001b[0m\u001b[0m\n\u001b[0m\u001b[1;32m    369\u001b[0m \u001b[0;34m\u001b[0m\u001b[0m\n\u001b[1;32m    370\u001b[0m     \u001b[0;34m@\u001b[0m\u001b[0mproperty\u001b[0m\u001b[0;34m\u001b[0m\u001b[0;34m\u001b[0m\u001b[0m\n",
      "\u001b[0;32m~/.local/lib/python3.9/site-packages/xarray/core/variable.py\u001b[0m in \u001b[0;36mencoding\u001b[0;34m(self, value)\u001b[0m\n\u001b[1;32m    974\u001b[0m     \u001b[0;32mdef\u001b[0m \u001b[0mencoding\u001b[0m\u001b[0;34m(\u001b[0m\u001b[0mself\u001b[0m\u001b[0;34m,\u001b[0m \u001b[0mvalue\u001b[0m\u001b[0;34m)\u001b[0m\u001b[0;34m:\u001b[0m\u001b[0;34m\u001b[0m\u001b[0;34m\u001b[0m\u001b[0m\n\u001b[1;32m    975\u001b[0m         \u001b[0;32mtry\u001b[0m\u001b[0;34m:\u001b[0m\u001b[0;34m\u001b[0m\u001b[0;34m\u001b[0m\u001b[0m\n\u001b[0;32m--> 976\u001b[0;31m             \u001b[0mself\u001b[0m\u001b[0;34m.\u001b[0m\u001b[0m_encoding\u001b[0m \u001b[0;34m=\u001b[0m \u001b[0mdict\u001b[0m\u001b[0;34m(\u001b[0m\u001b[0mvalue\u001b[0m\u001b[0;34m)\u001b[0m\u001b[0;34m\u001b[0m\u001b[0;34m\u001b[0m\u001b[0m\n\u001b[0m\u001b[1;32m    977\u001b[0m         \u001b[0;32mexcept\u001b[0m \u001b[0mValueError\u001b[0m\u001b[0;34m:\u001b[0m\u001b[0;34m\u001b[0m\u001b[0;34m\u001b[0m\u001b[0m\n\u001b[1;32m    978\u001b[0m             \u001b[0;32mraise\u001b[0m \u001b[0mValueError\u001b[0m\u001b[0;34m(\u001b[0m\u001b[0;34m\"encoding must be castable to a dictionary\"\u001b[0m\u001b[0;34m)\u001b[0m\u001b[0;34m\u001b[0m\u001b[0;34m\u001b[0m\u001b[0m\n",
      "\u001b[0;31mKeyboardInterrupt\u001b[0m: "
     ]
    }
   ],
   "source": [
    "#!/usr/bin/env python3\n",
    "#pip install  rioxarray==0.3.1\n",
    "import pandas as pd\n",
    "import xarray as xr\n",
    "import matplotlib.pyplot as plt\n",
    "import rioxarray\n",
    "import numpy as np\n",
    "import geopandas as gpd\n",
    "import cartopy.crs as ccrs\n",
    "import rasterio\n",
    "import os\n",
    "import matplotlib.colors\n",
    "scriptsdir = os.getcwd()\n",
    "from scipy.interpolate import griddata\n",
    "from functools import reduce\n",
    "import xarray\n",
    "import itertools\n",
    "import argparse\n",
    "import matplotlib.colors as mcolors\n",
    "\n",
    "\n",
    "\n",
    "models =[\"GAM\"]\n",
    "taxas = [\"Bird\"]\n",
    "scenarios = [\"rcp26\"]\n",
    "\n",
    "\n",
    "model_names = ['GFDL-ESM2M', 'IPSL-CM5A-LR', 'HadGEM2-ES', 'MIROC5']\n",
    "\n",
    "years = ['1845', '1990', '1995', '2009', '2010', '2020', '2026', '2032', '2048', '2050',\n",
    "         '2052', '2056', '2080', '2100', '2150', '2200', '2250']\n",
    "\n",
    "\n",
    "def newvalue_fun(time, model, netcdf_path_format, is_historical=False, scenario=None):\n",
    "    newvalue_dict = {model_name: {} for model_name in model_names}\n",
    "    sum_bin_dict = {model_name: {} for model_name in model_names}\n",
    "\n",
    "    for model_name in model_names:\n",
    "        for species_name in species_names:\n",
    "            if is_historical:\n",
    "                ds = xr.open_dataset(netcdf_path_format_hist.format(model, taxa, species_name, time), decode_times=False)\n",
    "            else:\n",
    "                ds = xr.open_dataset(netcdf_path_format.format(model, taxa, model_name, scenario, species_name, time), decode_times=False)\n",
    "\n",
    "            newvalue = ds[\"newvalue\"]\n",
    "            sum_bin = ds[\"sum_bin\"]\n",
    "\n",
    "            newvalue_dict[model_name][species_name] = newvalue\n",
    "            sum_bin_dict[model_name][species_name] = sum_bin\n",
    "\n",
    "    projections_dict = {}\n",
    "\n",
    "    for species_name in species_names:\n",
    "        value_list = []\n",
    "        for model_name in model_names:\n",
    "            value_bin = newvalue_dict[model_name][species_name]\n",
    "            #value_bin = value_bin.where(value_bin > 0, 1)\n",
    "            #value_bin = (value_bin > 0.00)\n",
    "\n",
    "            value_list.append(value_bin)\n",
    "        value_bin_concat = xr.concat(value_list, dim=\"model_name\")\n",
    "        mean_value_bin = value_bin_concat.mean(dim=\"model_name\")\n",
    "        projections_dict[species_name] = mean_value_bin\n",
    "\n",
    "    value_bin_list = list(projections_dict.values())\n",
    "    mean_value_bin = xr.concat(value_bin_list, dim=\"species\").sum(dim=\"species\")  # Ensemble mean over species\n",
    "    mean_value_bin = mean_value_bin.where(mean_value_bin > 0, 0)\n",
    "    return mean_value_bin\n",
    "\n",
    "def calculate_mean(time, model, netcdf_path_format, is_historical=False, scenario=None):\n",
    "    newvalue_dict = {model_name: {} for model_name in model_names}\n",
    "    sum_bin_dict = {model_name: {} for model_name in model_names}\n",
    "    lu_sum_bin_dict = {model_name: {} for model_name in model_names}\n",
    "\n",
    "    for model_name in model_names:\n",
    "        for species_name in species_names:\n",
    "            if is_historical:\n",
    "                ds = xr.open_dataset(netcdf_path_format_hist.format(model, taxa, species_name, time), decode_times=False)\n",
    "            else:\n",
    "                ds = xr.open_dataset(netcdf_path_format.format(model, taxa, model_name, scenario, species_name, time), decode_times=False)\n",
    "            sum_bin = ds[\"sum_bin\"]\n",
    "            #lu_sum_bin = ds[\"sum_lu_binary\"]\n",
    "            #sum_bin = (sum_bin > 0.00)\n",
    "\n",
    "            sum_bin_dict[model_name][species_name] = sum_bin\n",
    "            #lu_sum_bin_dict[model_name][species_name] = lu_sum_bin\n",
    "\n",
    "    projections_dict = {}\n",
    "\n",
    "    for species_name in species_names:\n",
    "        sum_bin_list = []\n",
    "        for model_name in model_names:\n",
    "            sum_bin = sum_bin_dict[model_name][species_name]\n",
    "            sum_bin_list.append(sum_bin)\n",
    "        sum_bin_concat = xr.concat(sum_bin_list, dim=\"model_name\")\n",
    "        mean_sum_bin = sum_bin_concat.mean(dim=\"model_name\")\n",
    "        projections_dict[species_name] = mean_sum_bin\n",
    "\n",
    "    mean_sum_bin_list = list(projections_dict.values())\n",
    "    mean_sum_bin = xr.concat(mean_sum_bin_list, dim=\"species\").sum(dim=\"species\")  \n",
    "    mean_sum_bin = mean_sum_bin.where(mean_sum_bin > 0, 0)\n",
    "\n",
    "    return mean_sum_bin\n",
    "\n",
    "for model in models:\n",
    "    for taxa in taxas:\n",
    "        dir_species = \"/storage/scratch/users/ch21o450/data/LandClim_Output_sanity/\" + model + \"/\" + taxa + \"/GFDL-ESM2M/rcp26/\"\n",
    "        available_file = os.listdir(dir_species)\n",
    "        available_names = [x.split(\"_[65].nc\")[0] for x in available_file]\n",
    "\n",
    "    species_names = available_names[:100]\n",
    "    for species_name in species_names:\n",
    "\n",
    "        historical_time = 1146\n",
    "        future_times = [65]\n",
    "        #scenarios = [\"rcp60\"]y\n",
    "\n",
    "        netcdf_path_format_future = \"/storage/scratch/users/ch21o450/data/LandClim_Output_sanity/{}/{}/{}/{}/{}_[{}].nc\"\n",
    "        #netcdf_path_format_hist = f\"/storage/scratch/users/ch21o450/data/LandClim_Output/{model}/{taxa}/EWEMBI/{species_name}_[{historical_time}].nc\"\n",
    "        #netcdf_path_format_hist = \"/storage/scratch/users/ch21o450/data/LandClim_Output/{}/{}/EWEMBI/{}_[{}].nc\"\n",
    "\n",
    "\n",
    "        year_indices = {1146: '1995', 35: '2050', 65: '2080', 85: '2100'}\n",
    "\n",
    "\n",
    "        #mean_value_bin_hist = newvalue_fun(historical_time, model, netcdf_path_format_hist, is_historical=True)\n",
    "        #mean_sum_bin_hist = calculate_mean(historical_time, model, netcdf_path_format_hist, is_historical=True)\n",
    "\n",
    "#        mean_sum_bin_hist = mean_sum_bin_hist.isel(time=0)\n",
    "        \n",
    "        #filename = f\"/storage/scratch/users/ch21o450/data/LandClim_Output_sanity/{taxa}_{model}_{historical_time}_summedprobs_newvalue.nc\"\n",
    "        #mean_value_bin_hist.to_netcdf(filename)\n",
    "\n",
    " #       filename2 = f\"/storage/scratch/users/ch21o450/data/LandClim_Output_sanity/{taxa}_{model}_{historical_time}_summedprobs_sum.nc\"\n",
    "   #     mean_sum_bin_hist.to_netcdf(filename2)\n",
    "\n",
    "\n",
    "        for future_time in future_times:\n",
    "            for scenario in scenarios:\n",
    "                \n",
    "                mean_value_bin_future = newvalue_fun(future_time, model, netcdf_path_format_future, is_historical=False, scenario=scenario)\n",
    "                mean_sum_bin_future = calculate_mean(future_time, model, netcdf_path_format_future, is_historical=False, scenario=scenario)\n",
    "                mean_sum_bin_future = mean_sum_bin_future.isel(time=0)\n",
    "\n",
    "                filename = f\"/storage/scratch/users/ch21o450/data/LandClim_Output_sanity/{taxa}_{model}_{future_time}_{scenario}_summedprobs_newvalue.nc\"\n",
    "                mean_value_bin_future.to_netcdf(filename)\n",
    "\n",
    "                filename2 = f\"/storage/scratch/users/ch21o450/data/LandClim_Output_sanity/{taxa}_{model}_{future_time}_{scenario}_summedprobs_sum.nc\"\n",
    "                mean_sum_bin_future.to_netcdf(filename2)"
   ]
  },
  {
   "cell_type": "code",
   "execution_count": 12,
   "id": "cff9f369-49d6-433c-a5d8-a55b8d08e559",
   "metadata": {},
   "outputs": [
    {
     "data": {
      "text/plain": [
       "'Lepus_granatensis'"
      ]
     },
     "execution_count": 12,
     "metadata": {},
     "output_type": "execute_result"
    }
   ],
   "source": [
    "species_name"
   ]
  },
  {
   "cell_type": "code",
   "execution_count": 5,
   "id": "54d7a6e4-9e17-4e44-b7ab-b55bed86469e",
   "metadata": {},
   "outputs": [],
   "source": [
    "split_species_name = species_name.split(\"_\")[:2]"
   ]
  },
  {
   "cell_type": "code",
   "execution_count": 6,
   "id": "1e98e030-31fc-4556-a54d-11a1744bc0e3",
   "metadata": {},
   "outputs": [
    {
     "data": {
      "text/plain": [
       "['Lepus', 'granatensis']"
      ]
     },
     "execution_count": 6,
     "metadata": {},
     "output_type": "execute_result"
    }
   ],
   "source": [
    "split_species_name"
   ]
  },
  {
   "cell_type": "code",
   "execution_count": 7,
   "id": "6f002f5c-e050-4a6f-801f-0f28316af69e",
   "metadata": {},
   "outputs": [],
   "source": [
    "formatted_species_name = \"_\".join(split_species_name)"
   ]
  },
  {
   "cell_type": "code",
   "execution_count": 8,
   "id": "5cb42076-927f-4129-b3ee-7238f173f1eb",
   "metadata": {},
   "outputs": [
    {
     "data": {
      "text/plain": [
       "'Lepus_granatensis'"
      ]
     },
     "execution_count": 8,
     "metadata": {},
     "output_type": "execute_result"
    }
   ],
   "source": [
    "formatted_species_name"
   ]
  },
  {
   "cell_type": "code",
   "execution_count": null,
   "id": "644af8b5-155e-4ffa-9186-0366cd5a485e",
   "metadata": {},
   "outputs": [],
   "source": [
    "split_species_name = species_name.split(\"_\")[:2]\n",
    "formatted_species_name = \"_\".join(split_species_name)"
   ]
  }
 ],
 "metadata": {
  "kernelspec": {
   "display_name": "Python 3 (ipykernel)",
   "language": "python",
   "name": "python3"
  },
  "language_info": {
   "codemirror_mode": {
    "name": "ipython",
    "version": 3
   },
   "file_extension": ".py",
   "mimetype": "text/x-python",
   "name": "python",
   "nbconvert_exporter": "python",
   "pygments_lexer": "ipython3",
   "version": "3.9.7"
  }
 },
 "nbformat": 4,
 "nbformat_minor": 5
}
